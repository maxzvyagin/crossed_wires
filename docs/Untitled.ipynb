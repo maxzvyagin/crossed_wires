{
 "cells": [
  {
   "cell_type": "code",
   "execution_count": 1,
   "id": "201de41a-a656-46f5-bd16-85a905671bd2",
   "metadata": {},
   "outputs": [
    {
     "ename": "ModuleNotFoundError",
     "evalue": "No module named 'crossedwires'",
     "output_type": "error",
     "traceback": [
      "\u001b[0;31m---------------------------------------------------------------------------\u001b[0m",
      "\u001b[0;31mModuleNotFoundError\u001b[0m                       Traceback (most recent call last)",
      "\u001b[0;32m/var/folders/hl/p5kq1p_17nl_22lnmzgqrhhw0000gn/T/ipykernel_6888/3549102541.py\u001b[0m in \u001b[0;36m<module>\u001b[0;34m\u001b[0m\n\u001b[0;32m----> 1\u001b[0;31m \u001b[0;32mfrom\u001b[0m \u001b[0mcrossedwires\u001b[0m\u001b[0;34m.\u001b[0m\u001b[0mcifar10\u001b[0m \u001b[0;32mimport\u001b[0m \u001b[0mResNet50Dataset\u001b[0m\u001b[0;34m\u001b[0m\u001b[0;34m\u001b[0m\u001b[0m\n\u001b[0m",
      "\u001b[0;31mModuleNotFoundError\u001b[0m: No module named 'crossedwires'"
     ]
    }
   ],
   "source": [
    "from crossedwires.cifar10 import ResNet50Dataset"
   ]
  },
  {
   "cell_type": "code",
   "execution_count": null,
   "id": "c7bb64dd-a4ac-49e0-8df7-c023f0d32909",
   "metadata": {},
   "outputs": [],
   "source": []
  }
 ],
 "metadata": {
  "kernelspec": {
   "display_name": "Python 3 (ipykernel)",
   "language": "python",
   "name": "python3"
  },
  "language_info": {
   "codemirror_mode": {
    "name": "ipython",
    "version": 3
   },
   "file_extension": ".py",
   "mimetype": "text/x-python",
   "name": "python",
   "nbconvert_exporter": "python",
   "pygments_lexer": "ipython3",
   "version": "3.9.6"
  }
 },
 "nbformat": 4,
 "nbformat_minor": 5
}
